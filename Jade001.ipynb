{
 "cells": [
  {
   "cell_type": "markdown",
   "id": "85e42a57",
   "metadata": {},
   "source": [
    "## The Journey of Jade001"
   ]
  },
  {
   "cell_type": "code",
   "execution_count": 1,
   "id": "e3bbd627",
   "metadata": {},
   "outputs": [],
   "source": [
    "import folium\n",
    "from folium import IFrame\n",
    "from folium.plugins import MiniMap\n",
    "from folium.plugins import MousePosition\n",
    "import os\n",
    "import base64\n",
    "from PIL import Image\n",
    "import io"
   ]
  },
  {
   "cell_type": "code",
   "execution_count": 2,
   "id": "cb6c1a16",
   "metadata": {},
   "outputs": [],
   "source": [
    "m = folium.Map(location=[29.56559,106.595052],zoom_start=3.5)"
   ]
  },
  {
   "cell_type": "code",
   "execution_count": 3,
   "id": "9e86ea96",
   "metadata": {},
   "outputs": [
    {
     "data": {
      "text/html": [
       "<div style=\"width:100%;\"><div style=\"position:relative;width:100%;height:0;padding-bottom:60%;\"><span style=\"color:#565656\">Make this Notebook Trusted to load map: File -> Trust Notebook</span><iframe src=\"about:blank\" style=\"position:absolute;width:100%;height:100%;left:0;top:0;border:none !important;\" data-html=%3C%21DOCTYPE%20html%3E%0A%3Chead%3E%20%20%20%20%0A%20%20%20%20%3Cmeta%20http-equiv%3D%22content-type%22%20content%3D%22text/html%3B%20charset%3DUTF-8%22%20/%3E%0A%20%20%20%20%0A%20%20%20%20%20%20%20%20%3Cscript%3E%0A%20%20%20%20%20%20%20%20%20%20%20%20L_NO_TOUCH%20%3D%20false%3B%0A%20%20%20%20%20%20%20%20%20%20%20%20L_DISABLE_3D%20%3D%20false%3B%0A%20%20%20%20%20%20%20%20%3C/script%3E%0A%20%20%20%20%0A%20%20%20%20%3Cstyle%3Ehtml%2C%20body%20%7Bwidth%3A%20100%25%3Bheight%3A%20100%25%3Bmargin%3A%200%3Bpadding%3A%200%3B%7D%3C/style%3E%0A%20%20%20%20%3Cstyle%3E%23map%20%7Bposition%3Aabsolute%3Btop%3A0%3Bbottom%3A0%3Bright%3A0%3Bleft%3A0%3B%7D%3C/style%3E%0A%20%20%20%20%3Cscript%20src%3D%22https%3A//cdn.jsdelivr.net/npm/leaflet%401.6.0/dist/leaflet.js%22%3E%3C/script%3E%0A%20%20%20%20%3Cscript%20src%3D%22https%3A//code.jquery.com/jquery-1.12.4.min.js%22%3E%3C/script%3E%0A%20%20%20%20%3Cscript%20src%3D%22https%3A//maxcdn.bootstrapcdn.com/bootstrap/3.2.0/js/bootstrap.min.js%22%3E%3C/script%3E%0A%20%20%20%20%3Cscript%20src%3D%22https%3A//cdnjs.cloudflare.com/ajax/libs/Leaflet.awesome-markers/2.0.2/leaflet.awesome-markers.js%22%3E%3C/script%3E%0A%20%20%20%20%3Clink%20rel%3D%22stylesheet%22%20href%3D%22https%3A//cdn.jsdelivr.net/npm/leaflet%401.6.0/dist/leaflet.css%22/%3E%0A%20%20%20%20%3Clink%20rel%3D%22stylesheet%22%20href%3D%22https%3A//maxcdn.bootstrapcdn.com/bootstrap/3.2.0/css/bootstrap.min.css%22/%3E%0A%20%20%20%20%3Clink%20rel%3D%22stylesheet%22%20href%3D%22https%3A//maxcdn.bootstrapcdn.com/bootstrap/3.2.0/css/bootstrap-theme.min.css%22/%3E%0A%20%20%20%20%3Clink%20rel%3D%22stylesheet%22%20href%3D%22https%3A//maxcdn.bootstrapcdn.com/font-awesome/4.6.3/css/font-awesome.min.css%22/%3E%0A%20%20%20%20%3Clink%20rel%3D%22stylesheet%22%20href%3D%22https%3A//cdnjs.cloudflare.com/ajax/libs/Leaflet.awesome-markers/2.0.2/leaflet.awesome-markers.css%22/%3E%0A%20%20%20%20%3Clink%20rel%3D%22stylesheet%22%20href%3D%22https%3A//cdn.jsdelivr.net/gh/python-visualization/folium/folium/templates/leaflet.awesome.rotate.min.css%22/%3E%0A%20%20%20%20%0A%20%20%20%20%20%20%20%20%20%20%20%20%3Cmeta%20name%3D%22viewport%22%20content%3D%22width%3Ddevice-width%2C%0A%20%20%20%20%20%20%20%20%20%20%20%20%20%20%20%20initial-scale%3D1.0%2C%20maximum-scale%3D1.0%2C%20user-scalable%3Dno%22%20/%3E%0A%20%20%20%20%20%20%20%20%20%20%20%20%3Cstyle%3E%0A%20%20%20%20%20%20%20%20%20%20%20%20%20%20%20%20%23map_6314659166fb4a60bf1471187d52f51c%20%7B%0A%20%20%20%20%20%20%20%20%20%20%20%20%20%20%20%20%20%20%20%20position%3A%20relative%3B%0A%20%20%20%20%20%20%20%20%20%20%20%20%20%20%20%20%20%20%20%20width%3A%20100.0%25%3B%0A%20%20%20%20%20%20%20%20%20%20%20%20%20%20%20%20%20%20%20%20height%3A%20100.0%25%3B%0A%20%20%20%20%20%20%20%20%20%20%20%20%20%20%20%20%20%20%20%20left%3A%200.0%25%3B%0A%20%20%20%20%20%20%20%20%20%20%20%20%20%20%20%20%20%20%20%20top%3A%200.0%25%3B%0A%20%20%20%20%20%20%20%20%20%20%20%20%20%20%20%20%7D%0A%20%20%20%20%20%20%20%20%20%20%20%20%3C/style%3E%0A%20%20%20%20%20%20%20%20%0A%20%20%20%20%3Cscript%20src%3D%22https%3A//cdnjs.cloudflare.com/ajax/libs/leaflet-minimap/3.6.1/Control.MiniMap.js%22%3E%3C/script%3E%0A%20%20%20%20%3Clink%20rel%3D%22stylesheet%22%20href%3D%22https%3A//cdnjs.cloudflare.com/ajax/libs/leaflet-minimap/3.6.1/Control.MiniMap.css%22/%3E%0A%3C/head%3E%0A%3Cbody%3E%20%20%20%20%0A%20%20%20%20%0A%20%20%20%20%20%20%20%20%20%20%20%20%3Cdiv%20class%3D%22folium-map%22%20id%3D%22map_6314659166fb4a60bf1471187d52f51c%22%20%3E%3C/div%3E%0A%20%20%20%20%20%20%20%20%0A%3C/body%3E%0A%3Cscript%3E%20%20%20%20%0A%20%20%20%20%0A%20%20%20%20%20%20%20%20%20%20%20%20var%20map_6314659166fb4a60bf1471187d52f51c%20%3D%20L.map%28%0A%20%20%20%20%20%20%20%20%20%20%20%20%20%20%20%20%22map_6314659166fb4a60bf1471187d52f51c%22%2C%0A%20%20%20%20%20%20%20%20%20%20%20%20%20%20%20%20%7B%0A%20%20%20%20%20%20%20%20%20%20%20%20%20%20%20%20%20%20%20%20center%3A%20%5B29.56559%2C%20106.595052%5D%2C%0A%20%20%20%20%20%20%20%20%20%20%20%20%20%20%20%20%20%20%20%20crs%3A%20L.CRS.EPSG3857%2C%0A%20%20%20%20%20%20%20%20%20%20%20%20%20%20%20%20%20%20%20%20zoom%3A%203.5%2C%0A%20%20%20%20%20%20%20%20%20%20%20%20%20%20%20%20%20%20%20%20zoomControl%3A%20true%2C%0A%20%20%20%20%20%20%20%20%20%20%20%20%20%20%20%20%20%20%20%20preferCanvas%3A%20false%2C%0A%20%20%20%20%20%20%20%20%20%20%20%20%20%20%20%20%7D%0A%20%20%20%20%20%20%20%20%20%20%20%20%29%3B%0A%0A%20%20%20%20%20%20%20%20%20%20%20%20%0A%0A%20%20%20%20%20%20%20%20%0A%20%20%20%20%0A%20%20%20%20%20%20%20%20%20%20%20%20var%20tile_layer_e306f67001524f3fa89558719c5b0eeb%20%3D%20L.tileLayer%28%0A%20%20%20%20%20%20%20%20%20%20%20%20%20%20%20%20%22https%3A//%7Bs%7D.tile.openstreetmap.org/%7Bz%7D/%7Bx%7D/%7By%7D.png%22%2C%0A%20%20%20%20%20%20%20%20%20%20%20%20%20%20%20%20%7B%22attribution%22%3A%20%22Data%20by%20%5Cu0026copy%3B%20%5Cu003ca%20href%3D%5C%22http%3A//openstreetmap.org%5C%22%5Cu003eOpenStreetMap%5Cu003c/a%5Cu003e%2C%20under%20%5Cu003ca%20href%3D%5C%22http%3A//www.openstreetmap.org/copyright%5C%22%5Cu003eODbL%5Cu003c/a%5Cu003e.%22%2C%20%22detectRetina%22%3A%20false%2C%20%22maxNativeZoom%22%3A%2018%2C%20%22maxZoom%22%3A%2018%2C%20%22minZoom%22%3A%200%2C%20%22noWrap%22%3A%20false%2C%20%22opacity%22%3A%201%2C%20%22subdomains%22%3A%20%22abc%22%2C%20%22tms%22%3A%20false%7D%0A%20%20%20%20%20%20%20%20%20%20%20%20%29.addTo%28map_6314659166fb4a60bf1471187d52f51c%29%3B%0A%20%20%20%20%20%20%20%20%0A%20%20%20%20%0A%20%20%20%20%20%20%20%20%20%20%20%20var%20tile_layer_765fa7fedba945599bcf747b218d7914%20%3D%20L.tileLayer%28%0A%20%20%20%20%20%20%20%20%20%20%20%20%20%20%20%20%22https%3A//%7Bs%7D.tile.openstreetmap.org/%7Bz%7D/%7Bx%7D/%7By%7D.png%22%2C%0A%20%20%20%20%20%20%20%20%20%20%20%20%20%20%20%20%7B%22attribution%22%3A%20%22Data%20by%20%5Cu0026copy%3B%20%5Cu003ca%20href%3D%5C%22http%3A//openstreetmap.org%5C%22%5Cu003eOpenStreetMap%5Cu003c/a%5Cu003e%2C%20under%20%5Cu003ca%20href%3D%5C%22http%3A//www.openstreetmap.org/copyright%5C%22%5Cu003eODbL%5Cu003c/a%5Cu003e.%22%2C%20%22detectRetina%22%3A%20false%2C%20%22maxNativeZoom%22%3A%2018%2C%20%22maxZoom%22%3A%2018%2C%20%22minZoom%22%3A%200%2C%20%22noWrap%22%3A%20false%2C%20%22opacity%22%3A%201%2C%20%22subdomains%22%3A%20%22abc%22%2C%20%22tms%22%3A%20false%7D%0A%20%20%20%20%20%20%20%20%20%20%20%20%29%3B%0A%20%20%20%20%20%20%20%20%20%20%20%20var%20mini_map_ab353d44fa154921a7dacf13e28ec841%20%3D%20new%20L.Control.MiniMap%28%0A%20%20%20%20%20%20%20%20%20%20%20%20%20%20%20%20tile_layer_765fa7fedba945599bcf747b218d7914%2C%0A%20%20%20%20%20%20%20%20%20%20%20%20%20%20%20%20%7B%22autoToggleDisplay%22%3A%20false%2C%20%22centerFixed%22%3A%20false%2C%20%22collapsedHeight%22%3A%2025%2C%20%22collapsedWidth%22%3A%2025%2C%20%22height%22%3A%20150%2C%20%22minimized%22%3A%20false%2C%20%22position%22%3A%20%22bottomright%22%2C%20%22toggleDisplay%22%3A%20false%2C%20%22width%22%3A%20150%2C%20%22zoomAnimation%22%3A%20false%2C%20%22zoomLevelOffset%22%3A%20-5%7D%0A%20%20%20%20%20%20%20%20%20%20%20%20%29%3B%0A%20%20%20%20%20%20%20%20%20%20%20%20map_6314659166fb4a60bf1471187d52f51c.addControl%28mini_map_ab353d44fa154921a7dacf13e28ec841%29%3B%0A%20%20%20%20%20%20%20%20%0A%3C/script%3E onload=\"this.contentDocument.open();this.contentDocument.write(    decodeURIComponent(this.getAttribute('data-html')));this.contentDocument.close();\" allowfullscreen webkitallowfullscreen mozallowfullscreen></iframe></div></div>"
      ],
      "text/plain": [
       "<folium.folium.Map at 0x1245ced30>"
      ]
     },
     "execution_count": 3,
     "metadata": {},
     "output_type": "execute_result"
    }
   ],
   "source": [
    "minimap = MiniMap()\n",
    "m.add_child(minimap)"
   ]
  },
  {
   "cell_type": "code",
   "execution_count": 4,
   "id": "b1ff7aaf",
   "metadata": {},
   "outputs": [
    {
     "data": {
      "text/plain": [
       "<folium.plugins.mouse_position.MousePosition at 0x12493a460>"
      ]
     },
     "execution_count": 4,
     "metadata": {},
     "output_type": "execute_result"
    }
   ],
   "source": [
    "MousePosition().add_to(m)"
   ]
  },
  {
   "cell_type": "code",
   "execution_count": 5,
   "id": "55dddb96",
   "metadata": {},
   "outputs": [
    {
     "data": {
      "text/plain": [
       "<folium.vector_layers.PolyLine at 0x12493ae20>"
      ]
     },
     "execution_count": 5,
     "metadata": {},
     "output_type": "execute_result"
    }
   ],
   "source": [
    "# map the vector layer for the route\n",
    "loc = [(37.1003720930779, 79.95849609375),\n",
    "          (39.4699062, 75.9801939),\n",
    "          (39.9187347324166, 116.390689015388),\n",
    "          (29.56559, 106.595052),\n",
    "          (24.137758039365817, 120.69219186902045),\n",
    "          (24.073272708151087, 120.7171243429184),\n",
    "          (25.10217956587455, 121.54857158660889)]\n",
    "\n",
    "folium.PolyLine(loc,\n",
    "                    color='darkgreen',\n",
    "                    weight=3,\n",
    "                    opacity=0.8).add_to(m)"
   ]
  },
  {
   "cell_type": "code",
   "execution_count": 6,
   "id": "1a75bb98",
   "metadata": {},
   "outputs": [],
   "source": [
    "# picture size deflator\n",
    "def open_resize(file,deflator):     # file name, divider of the size\n",
    "    imgx = Image.open(file)\n",
    "    imgxsize=list(imgx.size)\n",
    "    imgxr = imgx.resize((int(imgxsize[0]/deflator),int(imgxsize[1]/deflator)))\n",
    "    name = str(file)+'xx'\n",
    "    imgxr.save(name,format = 'PNG')\n",
    "    return base64.b64encode(open(name, 'rb').read()).decode() # input to IFame()"
   ]
  },
  {
   "cell_type": "code",
   "execution_count": 7,
   "id": "29a7e122",
   "metadata": {},
   "outputs": [],
   "source": [
    "# load images\n",
    "tooltip = 'before 1756: Xinjiang'\n",
    "html_1 = '''\n",
    "<b>Jade001 Grayish-green jade bowl 青灰玉碗</b><br><br>\n",
    "Front<br><br> \n",
    "<img src= \"data:image/png;base64,{}\"><br><br>\n",
    "Bottom<br><br>\n",
    "<img src= \"data:image/png;base64,{}\"><br><br>\n",
    "Back<br><br>\n",
    "<img src= \"data:image/png;base64,{}\"><br><br>\n",
    "Place in Historical Map<br><br>\n",
    "<img src= \"data:image/png;base64,{}\"><br><br>\n",
    "'''. format"
   ]
  },
  {
   "cell_type": "code",
   "execution_count": 8,
   "id": "9febf005",
   "metadata": {},
   "outputs": [],
   "source": [
    "ppp1 = open_resize('Jade001_Images/Jade001_NPMT_front.jpg',3)\n",
    "ppp2 = open_resize('Jade001_Images/Jade001_NPMT_bottom.jpg',4)\n",
    "ppp3 = open_resize('Jade001_Images/Jade001_NPMT_back.jpg',4)\n",
    "ppp4 = open_resize('Jade001_Images/Xiyuquantu.jpg',2.5)\n",
    "\n",
    "iframe1 = IFrame(html_1(ppp1,ppp2,ppp3,ppp4), width=400+20, height=500+20)\n",
    "popup1 = folium.Popup(iframe1, max_width=420)\n",
    "icon1= folium.Icon(color=\"darkgreen\")"
   ]
  },
  {
   "cell_type": "code",
   "execution_count": 9,
   "id": "01db2717",
   "metadata": {},
   "outputs": [],
   "source": [
    "marker1= folium.Marker(location=[39.4699062, 75.9801939], popup=popup1, tooltip=tooltip, icon=icon1).add_to(m)"
   ]
  },
  {
   "cell_type": "code",
   "execution_count": 10,
   "id": "ee65bc41",
   "metadata": {},
   "outputs": [],
   "source": [
    "tooltip2 = 'Start: Hetian'\n",
    "html_2 = '''\n",
    "Hetian<br><br>\n",
    "<img src= \"data:image/png;base64,{}\"><br><br>\n",
    "'''. format"
   ]
  },
  {
   "cell_type": "code",
   "execution_count": 11,
   "id": "51667876",
   "metadata": {},
   "outputs": [],
   "source": [
    "ppp5 = open_resize('Jade001_Images/Tianshannanlu_6_Hetian.jpg', 2.5)\n",
    "iframe2 = IFrame(html_2(ppp5), width=400+20, height=500+20)\n",
    "popup2 = folium.Popup(iframe2, max_width=420)\n",
    "icon2= folium.Icon(color=\"darkgreen\",icon=\"Place\")"
   ]
  },
  {
   "cell_type": "code",
   "execution_count": 12,
   "id": "068aeceb",
   "metadata": {},
   "outputs": [],
   "source": [
    "marker2= folium.Marker(location=[37.1003720930779, 79.95849609375], popup=popup2, tooltip=tooltip2, icon=icon2).add_to(m)"
   ]
  },
  {
   "cell_type": "code",
   "execution_count": 13,
   "id": "3ac228e1",
   "metadata": {},
   "outputs": [],
   "source": [
    "tooltip3 = '1756-1924: The Forbidden City'\n",
    "icon3= folium.Icon(color=\"darkgreen\",icon=\"Place\")\n",
    "marker3= folium.Marker(location=[39.9187347324166, 116.390689015388], popup=\"<b>Palace of Heavenly Purity</b>\", tooltip=tooltip3, icon=icon3).add_to(m)"
   ]
  },
  {
   "cell_type": "code",
   "execution_count": 14,
   "id": "2841b224",
   "metadata": {},
   "outputs": [],
   "source": [
    "tooltip4 = '1933-1948: Chongqing'\n",
    "icon4= folium.Icon(color=\"darkgreen\",icon=\"Place\")\n",
    "marker4= folium.Marker(location=[29.56559,106.595052], popup=\"<b>Wartime Storeage</b>\", tooltip=tooltip4, icon=icon4).add_to(m)"
   ]
  },
  {
   "cell_type": "code",
   "execution_count": 15,
   "id": "d27ec6e6",
   "metadata": {},
   "outputs": [],
   "source": [
    "tooltip5 = '1948-1949: Taichung'\n",
    "icon5= folium.Icon(color=\"darkgreen\",icon=\"Place\")\n",
    "marker5= folium.Marker(location=[24.073272708151087, 120.7171243429184], popup=\"<b>Temporary Storage</b>\", tooltip=tooltip5, icon=icon5).add_to(m)"
   ]
  },
  {
   "cell_type": "code",
   "execution_count": 16,
   "id": "3dd90420",
   "metadata": {},
   "outputs": [],
   "source": [
    "tooltip6 = '1950-1965: Taichung'\n",
    "icon6= folium.Icon(color=\"darkgreen\",icon=\"Place\")\n",
    "marker6= folium.Marker(location=[24.137758039365817, 120.69219186902045], popup=\"<b>Shelter Storage</b>\", tooltip=tooltip6, icon=icon6).add_to(m)"
   ]
  },
  {
   "cell_type": "code",
   "execution_count": 17,
   "id": "3f5f6948",
   "metadata": {},
   "outputs": [],
   "source": [
    "tooltip7 = '1965-Now: National Palace Museum, Taipei'\n",
    "icon7= folium.Icon(color=\"darkgreen\",icon=\"Place\")\n",
    "marker7= folium.Marker(location=[25.10217956587455, 121.54857158660889], popup=\"<b>Museum Collection</b>\", tooltip=tooltip7, icon=icon7).add_to(m)"
   ]
  },
  {
   "cell_type": "code",
   "execution_count": 18,
   "id": "644bf85c",
   "metadata": {},
   "outputs": [],
   "source": [
    "# generate maps to html file\n",
    "m. save('index.html')"
   ]
  }
 ],
 "metadata": {
  "kernelspec": {
   "display_name": "Python 3",
   "language": "python",
   "name": "python3"
  },
  "language_info": {
   "codemirror_mode": {
    "name": "ipython",
    "version": 3
   },
   "file_extension": ".py",
   "mimetype": "text/x-python",
   "name": "python",
   "nbconvert_exporter": "python",
   "pygments_lexer": "ipython3",
   "version": "3.8.8"
  }
 },
 "nbformat": 4,
 "nbformat_minor": 5
}
